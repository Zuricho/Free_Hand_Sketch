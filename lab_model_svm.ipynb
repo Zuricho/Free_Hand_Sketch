{
 "cells": [
  {
   "cell_type": "code",
   "execution_count": 1,
   "metadata": {},
   "outputs": [],
   "source": [
    "# import packages\n",
    "import numpy as np\n",
    "import matplotlib.pyplot as plt\n",
    "import seaborn as sns\n",
    "import torch \n",
    "import torchvision\n",
    "import torch.utils.data.dataloader as DataLoader\n",
    "from torchvision import transforms\n",
    "\n",
    "from sklearn.svm import SVC\n",
    "from sklearn.metrics import f1_score\n",
    "from sklearn.metrics import confusion_matrix\n",
    "from sklearn.metrics import accuracy_score\n",
    "from sklearn.metrics import classification_report\n",
    "from sklearn.neural_network import MLPClassifier"
   ]
  },
  {
   "cell_type": "code",
   "execution_count": 25,
   "metadata": {},
   "outputs": [],
   "source": [
    "transform=transforms.Compose([transforms.Grayscale(),transforms.ToTensor()])\n",
    "\n",
    "# training set\n",
    "data_path_train = 'dataset_pixel/train'\n",
    "train_x = []\n",
    "train_y = []\n",
    "for image_data in torchvision.datasets.ImageFolder(root=data_path_train,transform=transform):\n",
    "    train_x.append(image_data[0].detach().numpy()[0].reshape(28*28))\n",
    "    train_y.append(image_data[1])\n",
    "\n",
    "\n",
    "\n",
    "# test set\n",
    "data_path_test = 'dataset_pixel/test'\n",
    "test_dataset = torchvision.datasets.ImageFolder(\n",
    "    root=data_path_test,\n",
    "    transform=transform\n",
    ")\n",
    "\n",
    "# validation set\n",
    "data_path_valid = 'dataset_pixel/valid'\n",
    "valid_dataset = torchvision.datasets.ImageFolder(\n",
    "    root=data_path_valid,\n",
    "    transform=transform\n",
    ")"
   ]
  },
  {
   "cell_type": "code",
   "execution_count": 26,
   "metadata": {},
   "outputs": [],
   "source": [
    "classifier = SVC(kernel=\"poly\")\n",
    "\n",
    "classifier.fit(train_x, train_y)"
   ]
  },
  {
   "cell_type": "code",
   "execution_count": null,
   "metadata": {},
   "outputs": [],
   "source": [
    "clf_list = [SVC(kernel='linear'),SVC(kernel='poly'),SVC(kernel='rbf'),SVC(kernel='sigmoid'),MLPClassifier()]\n",
    "clf_name_list = ['SVM:linear','SVM:poly','SVM:rbf','SVM:sigmoid','Neural Network']\n",
    "\n",
    "accuracy_list = []\n",
    "f1_list = []\n",
    "\n",
    "for clf,clf_name in zip(clf_list,clf_name_list):\n",
    "    clf.fit(x_train_dna, y_train_dna)\n",
    "    predict_y = clf.predict(x_test_dna)\n",
    "\n",
    "    # calculate metrics: accuracy, f1 score, confusion matrix\n",
    "    # confusion matrix\n",
    "    cm = confusion_matrix(y_test_dna, predict_y)\n",
    "    # print(cm)\n",
    "\n",
    "    # accuracy\n",
    "    print(\"Classifier: %s, accuracy: %f\" % (clf_name,accuracy_score(y_test_dna, predict_y)))\n",
    "    accuracy_list.append(accuracy_score(y_test_dna, predict_y))\n",
    "\n",
    "    # f1 score\n",
    "    print(\"Classifier: %s, f1 score: %f\" % (clf_name,f1_score(y_test_dna, predict_y, average='macro')))\n",
    "    f1_list.append(f1_score(y_test_dna, predict_y, average='macro'))\n"
   ]
  }
 ],
 "metadata": {
  "kernelspec": {
   "display_name": "Python 3.9.7 ('torch')",
   "language": "python",
   "name": "python3"
  },
  "language_info": {
   "codemirror_mode": {
    "name": "ipython",
    "version": 3
   },
   "file_extension": ".py",
   "mimetype": "text/x-python",
   "name": "python",
   "nbconvert_exporter": "python",
   "pygments_lexer": "ipython3",
   "version": "3.9.7"
  },
  "orig_nbformat": 4,
  "vscode": {
   "interpreter": {
    "hash": "7fb8039a8f54b6eaa53411e1600db4762c5d3778c5768c8cb602a31c798a2c38"
   }
  }
 },
 "nbformat": 4,
 "nbformat_minor": 2
}
