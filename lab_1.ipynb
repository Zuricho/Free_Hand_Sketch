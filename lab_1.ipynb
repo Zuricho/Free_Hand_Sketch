{
 "cells": [
  {
   "cell_type": "code",
   "execution_count": 22,
   "metadata": {},
   "outputs": [],
   "source": [
    "# import packages\n",
    "import numpy as np\n",
    "import matplotlib.pyplot as plt\n",
    "import pandas as pd\n",
    "# import seaborn as sns\n",
    "# import torch \n",
    "# from sklearn.svm import SVC\n",
    "# from sklearn.metrics import f1_score"
   ]
  },
  {
   "cell_type": "code",
   "execution_count": 29,
   "metadata": {},
   "outputs": [
    {
     "data": {
      "text/plain": [
       "['test', 'train', 'valid']"
      ]
     },
     "execution_count": 29,
     "metadata": {},
     "output_type": "execute_result"
    }
   ],
   "source": [
    "# load free sketch dataset\n",
    "dataset_owl = np.load(\"dataset/sketchrnn_owl.npz\",allow_pickle=True,encoding='latin1')\n",
    "dataset_owl.files"
   ]
  },
  {
   "cell_type": "code",
   "execution_count": 31,
   "metadata": {},
   "outputs": [
    {
     "data": {
      "text/plain": [
       "(70000,)"
      ]
     },
     "execution_count": 31,
     "metadata": {},
     "output_type": "execute_result"
    }
   ],
   "source": [
    "dataset_owl['train'].shape"
   ]
  },
  {
   "cell_type": "code",
   "execution_count": 6,
   "metadata": {},
   "outputs": [
    {
     "data": {
      "text/plain": [
       "(-82.0, 276.0, -16.0, 213.0)"
      ]
     },
     "execution_count": 6,
     "metadata": {},
     "output_type": "execute_result"
    }
   ],
   "source": [
    "datasource = dataset_bear['train'][1]\n",
    "def get_bounds(data):\n",
    "  \"\"\"Return bounds of data.\"\"\"\n",
    "  min_x = 0\n",
    "  max_x = 0\n",
    "  min_y = 0\n",
    "  max_y = 0\n",
    "\n",
    "  abs_x = 0\n",
    "  abs_y = 0\n",
    "  for i in range(len(data)):\n",
    "    x = float(data[i, 0])\n",
    "    y = float(data[i, 1])\n",
    "    abs_x += x\n",
    "    abs_y += y\n",
    "    min_x = min(min_x, abs_x)\n",
    "    min_y = min(min_y, abs_y)\n",
    "    max_x = max(max_x, abs_x)\n",
    "    max_y = max(max_y, abs_y)\n",
    "\n",
    "  return (min_x, max_x, min_y, max_y)\n",
    "get_bounds(datasource)"
   ]
  },
  {
   "cell_type": "code",
   "execution_count": 12,
   "metadata": {},
   "outputs": [],
   "source": [
    "datasource = dataset_bear['train'][1]\n",
    "\n",
    "import svgwrite\n",
    "\n",
    "pixel_width = 28\n",
    "\n",
    "def draw_strokes(data, svg_filename='sample.svg', width=48, margin=1.5, color='black'):\n",
    "    \"\"\" convert sequence data to svg format \"\"\"\n",
    "    min_x, max_x, min_y, max_y = get_bounds(data)\n",
    "    if max_x - min_x > max_y - min_y:\n",
    "        norm = max_x - min_x\n",
    "        border_y = (norm - (max_y - min_y)) * 0.5\n",
    "        border_x = 0\n",
    "    else:\n",
    "        norm = max_y - min_y\n",
    "        border_x = (norm - (max_x - min_x)) * 0.5\n",
    "        border_y = 0\n",
    "  \n",
    "    # normalize data\n",
    "    norm = max(norm, 10e-6)\n",
    "    scale = (width - 2*margin) / norm\n",
    "    dx = 0 - min_x + border_x\n",
    "    dy = 0 - min_y + border_y\n",
    "  \n",
    "    abs_x = (0 + dx) * scale + margin\n",
    "    abs_y = (0 + dy) * scale + margin\n",
    "  \n",
    "    # start converting\n",
    "    dwg = svgwrite.Drawing(svg_filename, size=(width,width))\n",
    "    dwg.add(dwg.rect(insert=(0, 0), size=(width,width),fill='white'))\n",
    "    lift_pen = 1\n",
    "    p = \"M%s,%s \" % (abs_x, abs_y)\n",
    "    command = \"m\"\n",
    "    for i in range(len(data)):\n",
    "        if (lift_pen == 1):\n",
    "            command = \"m\"\n",
    "        elif (command != \"l\"):\n",
    "            command = \"l\"\n",
    "        else:\n",
    "            command = \"\"\n",
    "        x = float(data[i,0]) * scale\n",
    "        y = float(data[i,1]) * scale\n",
    "        lift_pen = data[i, 2]\n",
    "        p += command+str(x)+\",\"+str(y)+\" \"\n",
    "    the_color = color  # \"black\"\n",
    "    stroke_width = 1\n",
    "    dwg.add(dwg.path(p).stroke(the_color,stroke_width).fill(\"none\"))\n",
    "    dwg.save()\n",
    "\n",
    "draw_strokes(datasource,width=pixel_width)"
   ]
  },
  {
   "cell_type": "code",
   "execution_count": 13,
   "metadata": {},
   "outputs": [],
   "source": [
    "import cairosvg\n",
    "cairosvg.svg2png(url='sample.svg', write_to='image.png',)"
   ]
  },
  {
   "cell_type": "code",
   "execution_count": 21,
   "metadata": {},
   "outputs": [
    {
     "data": {
      "text/plain": [
       "['bear',\n",
       " 'camel',\n",
       " 'cat',\n",
       " 'cow',\n",
       " 'crocodile',\n",
       " 'dog',\n",
       " 'elephant',\n",
       " 'flamingo',\n",
       " 'giraffe',\n",
       " 'hedgehog',\n",
       " 'horse',\n",
       " 'kangaroo',\n",
       " 'lion',\n",
       " 'monkey',\n",
       " 'owl',\n",
       " 'panda',\n",
       " 'penguin',\n",
       " 'pig',\n",
       " 'raccoon',\n",
       " 'rhinoceros',\n",
       " 'sheep',\n",
       " 'squirrel',\n",
       " 'tiger',\n",
       " 'whale',\n",
       " 'zebra']"
      ]
     },
     "execution_count": 21,
     "metadata": {},
     "output_type": "execute_result"
    }
   ],
   "source": [
    "import os\n",
    "npz_file_location = \"./dataset/\"\n",
    "npz_file_list = os.listdir(npz_file_location)\n",
    "class_list = [npz_file_name.split('.')[0][10:] for npz_file_name in npz_file_list]\n",
    "class_list"
   ]
  },
  {
   "cell_type": "code",
   "execution_count": 20,
   "metadata": {},
   "outputs": [
    {
     "data": {
      "text/plain": [
       "['sketchrnn_bear.npz',\n",
       " 'sketchrnn_camel.npz',\n",
       " 'sketchrnn_cat.npz',\n",
       " 'sketchrnn_cow.npz',\n",
       " 'sketchrnn_crocodile.npz',\n",
       " 'sketchrnn_dog.npz',\n",
       " 'sketchrnn_elephant.npz',\n",
       " 'sketchrnn_flamingo.npz',\n",
       " 'sketchrnn_giraffe.npz',\n",
       " 'sketchrnn_hedgehog.npz',\n",
       " 'sketchrnn_horse.npz',\n",
       " 'sketchrnn_kangaroo.npz',\n",
       " 'sketchrnn_lion.npz',\n",
       " 'sketchrnn_monkey.npz',\n",
       " 'sketchrnn_owl.npz',\n",
       " 'sketchrnn_panda.npz',\n",
       " 'sketchrnn_penguin.npz',\n",
       " 'sketchrnn_pig.npz',\n",
       " 'sketchrnn_raccoon.npz',\n",
       " 'sketchrnn_rhinoceros.npz',\n",
       " 'sketchrnn_sheep.npz',\n",
       " 'sketchrnn_squirrel.npz',\n",
       " 'sketchrnn_tiger.npz',\n",
       " 'sketchrnn_whale.npz',\n",
       " 'sketchrnn_zebra.npz']"
      ]
     },
     "execution_count": 20,
     "metadata": {},
     "output_type": "execute_result"
    }
   ],
   "source": [
    "npz_file_list"
   ]
  },
  {
   "cell_type": "code",
   "execution_count": null,
   "metadata": {},
   "outputs": [],
   "source": []
  }
 ],
 "metadata": {
  "kernelspec": {
   "display_name": "Python 3.6.5 ('base')",
   "language": "python",
   "name": "python3"
  },
  "language_info": {
   "codemirror_mode": {
    "name": "ipython",
    "version": 3
   },
   "file_extension": ".py",
   "mimetype": "text/x-python",
   "name": "python",
   "nbconvert_exporter": "python",
   "pygments_lexer": "ipython3",
   "version": "3.6.5"
  },
  "orig_nbformat": 4,
  "vscode": {
   "interpreter": {
    "hash": "b09ec625f77bf4fd762565a912b97636504ad6ec901eb2d0f4cf5a7de23e1ee5"
   }
  }
 },
 "nbformat": 4,
 "nbformat_minor": 2
}
